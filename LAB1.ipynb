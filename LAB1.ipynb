{
  "nbformat": 4,
  "nbformat_minor": 0,
  "metadata": {
    "colab": {
      "provenance": []
    },
    "kernelspec": {
      "name": "python3",
      "display_name": "Python 3"
    },
    "language_info": {
      "name": "python"
    }
  },
  "cells": [
    {
      "cell_type": "code",
      "execution_count": 14,
      "metadata": {
        "colab": {
          "base_uri": "https://localhost:8080/"
        },
        "id": "Lt0oyhY3WnGS",
        "outputId": "f4efc157-823d-4201-c501-44ff4f016afc"
      },
      "outputs": [
        {
          "output_type": "stream",
          "name": "stdout",
          "text": [
            "  Customer  Candies (#)  Mangoes (Kg)  Milk Packets (#)  Payment (Rs)\n",
            "0      C_1           20             6                 2           386\n",
            "1      C_2           16             3                 6           289\n",
            "2      C_3           27             6                 2           393\n",
            "3      C_4           19             1                 2           110\n",
            "4      C_5           24             4                 2           280\n",
            "5      C_6           22             1                 5           167\n",
            "6      C_7           15             4                 2           271\n",
            "7      C_8           18             4                 2           274\n",
            "8      C_9           21             1                 4           148\n",
            "9     C_10           16             2                 4           198\n"
          ]
        }
      ],
      "source": [
        "# question A1\n",
        "import pandas as pd\n",
        "import numpy as np\n",
        "import statistics\n",
        "import matplotlib.pyplot as plt\n",
        "\n",
        "\n",
        "data_f = pd.read_csv(r'Purchase data-Table 1.csv')\n",
        "irctc_data = pd.read_excel(r'/content/Lab Session1 Data.xlsx', sheet_name= \"IRCTC Stock Price\")\n",
        "df = pd.DataFrame(data_f)\n",
        "df.drop(df.iloc[:, 5:23], axis=1, inplace=True)\n",
        "print(df)"
      ]
    },
    {
      "cell_type": "code",
      "source": [
        "A_purchase = df.iloc[0:10,1:4]\n",
        "print(A_purchase)\n",
        "A=np.array(A_purchase)\n",
        "print(A)"
      ],
      "metadata": {
        "colab": {
          "base_uri": "https://localhost:8080/"
        },
        "id": "3R3PsN6-gj2t",
        "outputId": "0890adfb-7bb6-4fd5-fad4-16c4ede71519"
      },
      "execution_count": 4,
      "outputs": [
        {
          "output_type": "stream",
          "name": "stdout",
          "text": [
            "   Candies (#)  Mangoes (Kg)  Milk Packets (#)\n",
            "0           20             6                 2\n",
            "1           16             3                 6\n",
            "2           27             6                 2\n",
            "3           19             1                 2\n",
            "4           24             4                 2\n",
            "5           22             1                 5\n",
            "6           15             4                 2\n",
            "7           18             4                 2\n",
            "8           21             1                 4\n",
            "9           16             2                 4\n",
            "[[20  6  2]\n",
            " [16  3  6]\n",
            " [27  6  2]\n",
            " [19  1  2]\n",
            " [24  4  2]\n",
            " [22  1  5]\n",
            " [15  4  2]\n",
            " [18  4  2]\n",
            " [21  1  4]\n",
            " [16  2  4]]\n"
          ]
        }
      ]
    },
    {
      "cell_type": "code",
      "source": [
        "C_total = df.iloc[0:10,4]\n",
        "C = np.array(C_total)\n",
        "C = C.reshape(10,1)\n",
        "print(C)"
      ],
      "metadata": {
        "colab": {
          "base_uri": "https://localhost:8080/"
        },
        "id": "8z88iFbgh_7j",
        "outputId": "01455e50-5bd8-422f-afab-8060a2efb1ea"
      },
      "execution_count": 15,
      "outputs": [
        {
          "output_type": "stream",
          "name": "stdout",
          "text": [
            "[[386]\n",
            " [289]\n",
            " [393]\n",
            " [110]\n",
            " [280]\n",
            " [167]\n",
            " [271]\n",
            " [274]\n",
            " [148]\n",
            " [198]]\n"
          ]
        }
      ]
    },
    {
      "cell_type": "code",
      "source": [
        "# Q1 a To find dimention\n",
        "print(\"Dimensionality of given data is\", df.shape)"
      ],
      "metadata": {
        "colab": {
          "base_uri": "https://localhost:8080/"
        },
        "id": "DfRyQFvSiJnY",
        "outputId": "d036cbdb-42d9-464a-c267-31eca97eb713"
      },
      "execution_count": 16,
      "outputs": [
        {
          "output_type": "stream",
          "name": "stdout",
          "text": [
            "Dimensionality of given data is (10, 5)\n"
          ]
        }
      ]
    },
    {
      "cell_type": "code",
      "source": [
        "#  Q1 b To find how many vectors exist in this vector space.\n",
        "print(\"Number of rows are\", df.shape[0])\n"
      ],
      "metadata": {
        "colab": {
          "base_uri": "https://localhost:8080/"
        },
        "id": "oPaBD53ijpbz",
        "outputId": "7ddd6d9e-b2f8-4ce8-9055-b86590579027"
      },
      "execution_count": 17,
      "outputs": [
        {
          "output_type": "stream",
          "name": "stdout",
          "text": [
            "Number of rows are 10\n"
          ]
        }
      ]
    },
    {
      "cell_type": "code",
      "source": [
        "# Q1 c To find the rank\n",
        "print(\"The rank of matrix is \", np.linalg.matrix_rank(A_purchase))\n"
      ],
      "metadata": {
        "colab": {
          "base_uri": "https://localhost:8080/"
        },
        "id": "BQjGv3hBj3ab",
        "outputId": "388d3afe-9b9d-4db4-9f6a-6757ce8a52a9"
      },
      "execution_count": 18,
      "outputs": [
        {
          "output_type": "stream",
          "name": "stdout",
          "text": [
            "The rank of matrix is  3\n"
          ]
        }
      ]
    },
    {
      "cell_type": "code",
      "source": [
        "# Use Pseudo-Inverse.\n",
        "x = np.linalg.pinv(A)\n",
        "print(x)"
      ],
      "metadata": {
        "colab": {
          "base_uri": "https://localhost:8080/"
        },
        "id": "EQ2a3_TUk0iG",
        "outputId": "cf71d2fb-2dba-4cd8-d62d-7f5eb8a4d3d2"
      },
      "execution_count": 19,
      "outputs": [
        {
          "output_type": "stream",
          "name": "stdout",
          "text": [
            "[[-0.01008596 -0.03124505  0.01013951  0.0290728   0.0182907   0.01161794\n",
            "  -0.00771348  0.00095458  0.01743623 -0.00542016]\n",
            " [ 0.09059668  0.07263726  0.03172933 -0.09071908 -0.01893196 -0.06926996\n",
            "   0.05675464  0.03152577 -0.07641966  0.00357352]\n",
            " [ 0.00299878  0.15874243 -0.05795468 -0.06609024 -0.06295043  0.03348017\n",
            "   0.01541831 -0.01070461  0.00029003  0.05938755]]\n"
          ]
        }
      ]
    },
    {
      "cell_type": "code",
      "source": [
        "# Q2 to find cost\n",
        "y = np.dot(x,C)\n",
        "print(\"Cost of a candy is\", y[0])\n",
        "print(\"COst of a mangoe is\", y[1])\n",
        "print(\"Cost of a milk packet is\", y[2])"
      ],
      "metadata": {
        "colab": {
          "base_uri": "https://localhost:8080/"
        },
        "id": "ub_yE1X3_Dqz",
        "outputId": "7f6ba4df-45f0-467a-917f-85e5160708db"
      },
      "execution_count": 20,
      "outputs": [
        {
          "output_type": "stream",
          "name": "stdout",
          "text": [
            "Cost of a candy is [1.]\n",
            "COst of a mangoe is [55.]\n",
            "Cost of a milk packet is [18.]\n"
          ]
        }
      ]
    },
    {
      "cell_type": "code",
      "source": [
        "# Q3 To categrize customer\n",
        "dff = df\n",
        "status_category = []\n",
        "for r in df['Payment (Rs)']:\n",
        "  if r < 200 :\n",
        "    status_category.append('poor')\n",
        "  elif r >= 200 :\n",
        "    status_category.append('rich')\n",
        "dff['category']= status_category\n",
        "print(dff)"
      ],
      "metadata": {
        "colab": {
          "base_uri": "https://localhost:8080/"
        },
        "id": "nQn6otl2CSbn",
        "outputId": "6a4bd025-2a84-40ee-be89-90a69dbc86fd"
      },
      "execution_count": 21,
      "outputs": [
        {
          "output_type": "stream",
          "name": "stdout",
          "text": [
            "  Customer  Candies (#)  Mangoes (Kg)  Milk Packets (#)  Payment (Rs) category\n",
            "0      C_1           20             6                 2           386     rich\n",
            "1      C_2           16             3                 6           289     rich\n",
            "2      C_3           27             6                 2           393     rich\n",
            "3      C_4           19             1                 2           110     poor\n",
            "4      C_5           24             4                 2           280     rich\n",
            "5      C_6           22             1                 5           167     poor\n",
            "6      C_7           15             4                 2           271     rich\n",
            "7      C_8           18             4                 2           274     rich\n",
            "8      C_9           21             1                 4           148     poor\n",
            "9     C_10           16             2                 4           198     poor\n"
          ]
        }
      ]
    },
    {
      "cell_type": "code",
      "source": [
        "# Q4 a To calculate mean and variance\n",
        "irctc_df = pd.DataFrame(irctc_data)\n",
        "print(irctc_df)\n",
        "\n"
      ],
      "metadata": {
        "colab": {
          "base_uri": "https://localhost:8080/"
        },
        "id": "5CAjW68fENmc",
        "outputId": "15df7f76-5c55-4f84-c69d-a458a5c6d18a"
      },
      "execution_count": 22,
      "outputs": [
        {
          "output_type": "stream",
          "name": "stdout",
          "text": [
            "             Date Month  Day    Price     Open     High      Low   Volume  \\\n",
            "0    Jun 29, 2021   Jun  Tue  2081.85  2092.00  2126.90  2065.05    1.67M   \n",
            "1    Jun 28, 2021   Jun  Mon  2077.75  2084.00  2112.45  2068.40  707.73K   \n",
            "2    Jun 25, 2021   Jun  Fri  2068.85  2084.35  2088.50  2053.10  475.82K   \n",
            "3    Jun 24, 2021   Jun  Thu  2072.95  2098.00  2098.00  2066.00  541.51K   \n",
            "4    Jun 23, 2021   Jun  Wed  2078.25  2102.00  2111.40  2072.00  809.62K   \n",
            "..            ...   ...  ...      ...      ...      ...      ...      ...   \n",
            "244  Jul 07, 2020   Jul  Tue  1397.40  1410.00  1411.00  1390.05  480.21K   \n",
            "245  Jul 06, 2020   Jul  Mon  1400.75  1405.50  1415.50  1394.00  614.93K   \n",
            "246  Jul 03, 2020   Jul  Fri  1405.10  1415.00  1425.00  1398.00  599.49K   \n",
            "247  Jul 02, 2020   Jul  Thu  1412.35  1440.00  1467.80  1395.30    2.16M   \n",
            "248  Jul 01, 2020   Jul  Wed  1363.05  1363.65  1377.00  1356.00  383.00K   \n",
            "\n",
            "       Chg%  \n",
            "0    0.0020  \n",
            "1    0.0043  \n",
            "2   -0.0020  \n",
            "3   -0.0026  \n",
            "4   -0.0023  \n",
            "..      ...  \n",
            "244 -0.0024  \n",
            "245 -0.0031  \n",
            "246 -0.0051  \n",
            "247  0.0362  \n",
            "248  0.0032  \n",
            "\n",
            "[249 rows x 9 columns]\n"
          ]
        }
      ]
    },
    {
      "cell_type": "code",
      "source": [
        "# mean and variance\n",
        "irctc_mean = irctc_df[\"Price\"].mean()\n",
        "print(\"Price mean is \", irctc_mean)\n",
        "irctc_var = irctc_df[\"Price\"].var()\n",
        "print(\"Price Variance is \", irctc_var)"
      ],
      "metadata": {
        "colab": {
          "base_uri": "https://localhost:8080/"
        },
        "id": "anRTtJSp9r2P",
        "outputId": "98451804-b31d-4470-cfa3-5284aa697b54"
      },
      "execution_count": 23,
      "outputs": [
        {
          "output_type": "stream",
          "name": "stdout",
          "text": [
            "Price mean is  1560.6634538152612\n",
            "Price Variance is  58732.36535253918\n"
          ]
        }
      ]
    },
    {
      "cell_type": "code",
      "source": [
        "# Q4 b\n",
        "wed_mean = irctc_df.loc[irctc_df['Day'] == 'Wed', 'Price'].mean()\n",
        "print(wed_mean)\n",
        "print(\"sales at IRCTC are less during Wednesdays \")\n",
        ""
      ],
      "metadata": {
        "colab": {
          "base_uri": "https://localhost:8080/"
        },
        "id": "8SxyrmUmWalv",
        "outputId": "fad41ceb-9ca6-4a3b-a16c-d1285c813875"
      },
      "execution_count": 24,
      "outputs": [
        {
          "output_type": "stream",
          "name": "stdout",
          "text": [
            "1550.7060000000001\n",
            "sales at IRCTC are less during Wednesdays \n"
          ]
        }
      ]
    },
    {
      "cell_type": "code",
      "source": [
        "# Q4  c\n",
        "apr_mean = irctc_df.loc[irctc_df['Month'] == 'Apr', 'Price'].mean()\n",
        "print(apr_mean)\n",
        "print(\"sales at IRCTC are higher during the April month\")"
      ],
      "metadata": {
        "colab": {
          "base_uri": "https://localhost:8080/"
        },
        "id": "YQ9oxauJ_L0d",
        "outputId": "997d3a3e-85be-4589-9d7b-37bd85d041ef"
      },
      "execution_count": 25,
      "outputs": [
        {
          "output_type": "stream",
          "name": "stdout",
          "text": [
            "1698.9526315789474\n",
            "sales at IRCTC are higher during the April month\n"
          ]
        }
      ]
    },
    {
      "cell_type": "code",
      "source": [
        "# Q4 D\n",
        "neg = 0\n",
        "for index,row in irctc_df.iterrows():\n",
        "    if row['Chg%'] < 0:\n",
        "        neg+=1\n",
        "print(\"probability of getting loss \",neg/irctc_df.shape[0])"
      ],
      "metadata": {
        "colab": {
          "base_uri": "https://localhost:8080/"
        },
        "id": "5HLQwh7p_al3",
        "outputId": "14541b42-c1b9-4a41-f468-9c30d4ee5cfe"
      },
      "execution_count": 26,
      "outputs": [
        {
          "output_type": "stream",
          "name": "stdout",
          "text": [
            "probability of getting loss  0.4979919678714859\n"
          ]
        }
      ]
    },
    {
      "cell_type": "code",
      "source": [
        "# Q4 E Calculate the probability of making a profit on Wednesday AND conditional probability of profit on  Wednesday.\n",
        "wed=0\n",
        "wed_pos=0\n",
        "\n",
        "\n",
        "\n",
        "for index,row in irctc_df.iterrows():\n",
        "    if row['Day']=='Wed':\n",
        "        if row['Chg%']>0:\n",
        "            wed_pos+=1\n",
        "        wed+=1\n",
        "\n",
        "print(\"probability of getting profit on Wednesday \",wed_pos/wed)"
      ],
      "metadata": {
        "colab": {
          "base_uri": "https://localhost:8080/"
        },
        "id": "eamtrsNl_xrF",
        "outputId": "65f648c2-f0a2-4e81-df71-f2f38f3adb93"
      },
      "execution_count": 27,
      "outputs": [
        {
          "output_type": "stream",
          "name": "stdout",
          "text": [
            "probability of getting profit on Wednesday  0.42\n"
          ]
        }
      ]
    },
    {
      "cell_type": "code",
      "source": [
        "days= []\n",
        "chg= []\n",
        "for index,row in irctc_df.iterrows():\n",
        "    days.append(row['Day'])\n",
        "    chg.append(row['Chg%'])\n",
        "plt.scatter(days, chg)\n",
        "plt.show()"
      ],
      "metadata": {
        "colab": {
          "base_uri": "https://localhost:8080/",
          "height": 433
        },
        "id": "L_wrGAIwAdP0",
        "outputId": "db7d1e4c-8b7e-481c-dd4f-19d995d26aab"
      },
      "execution_count": 28,
      "outputs": [
        {
          "output_type": "display_data",
          "data": {
            "text/plain": [
              "<Figure size 640x480 with 1 Axes>"
            ],
            "image/png": "[encoded data removed]"
          },
          "metadata": {}
        }
      ]
    }
  ]
}